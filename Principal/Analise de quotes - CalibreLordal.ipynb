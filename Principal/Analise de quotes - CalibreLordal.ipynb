{
 "cells": [
  {
   "cell_type": "markdown",
   "metadata": {},
   "source": [
    "# Analise de quotes do CalibreLordal\n",
    "\n",
    "## Objetivos\n",
    "- Contar a quantidade de quotes de cada usuário\n",
    "- Analisar quais são as palavras mais frenquentes no geral\n",
    "- Analisar quais são as palavras mais frequentes de cada usuário\n",
    "\n",
    "## O que fazer\n",
    "- Os quotes estão disponíveis em: https://twitch.center/customapi/quote/list?token=25693f14\n",
    "- Raspar o conteúdo do link anterior;\n",
    "- Criar um dataframe/csv/tabela com os quotes;\n",
    "- Separar os quotes em três colunas: Nº do quote, Quote e Autor;\n",
    "- Criar nova coluna com conteúdo da coluna de Autor normalizada para que não haja nomes diferentes de um mesmo usuário;\n",
    "- Criar nova coluna com conteúdo da coluna Quotes e remover a pontuação;\n",
    "\n",
    "- Pesquisar sobre Processamento de Linguagem Natural para saber como fazer a contagem de palavras ou se há um jeito melhor de fazer isso.\n",
    "- Pesquisar sobre expressões regulares talvez possa ajudar\n"
   ]
  },
  {
   "cell_type": "code",
   "execution_count": 1,
   "metadata": {},
   "outputs": [],
   "source": [
    "#Importando biliotecas que serão utilizadas\n",
    "from requests import get\n",
    "from re import search\n",
    "import pandas as pd"
   ]
  },
  {
   "cell_type": "code",
   "execution_count": 2,
   "metadata": {},
   "outputs": [],
   "source": [
    "#URL da pagina de quotes\n",
    "quotes_url = 'https://twitch.center/customapi/quote/list?token=25693f14'\n",
    "\n",
    "#Request da pagina\n",
    "pagina = get(quotes_url)\n",
    "#Convertendo o conteudo da pagina numa grande string\n",
    "texto_pagina = pagina.text"
   ]
  },
  {
   "cell_type": "code",
   "execution_count": 3,
   "metadata": {},
   "outputs": [
    {
     "name": "stdout",
     "output_type": "stream",
     "text": [
      "Quantidade de quotes: 1909\n"
     ]
    }
   ],
   "source": [
    "#splitlines() separa uma string em uma lista de strings usando os delimitadores \\r\\n\n",
    "lista_quotes = texto_pagina.splitlines()\n",
    "print('Quantidade de quotes:', len(lista_quotes))"
   ]
  },
  {
   "cell_type": "code",
   "execution_count": 4,
   "metadata": {},
   "outputs": [
    {
     "name": "stdout",
     "output_type": "stream",
     "text": [
      "['1. \"Coma pizza todo dia\" - Saga', '2. \"Charge characters are for low IQ idiots\" -LTG', '3. \"Agora vai\" -Saga']\n"
     ]
    }
   ],
   "source": [
    "#Printando os tres primeiros quotes\n",
    "print(lista_quotes[:3])"
   ]
  },
  {
   "cell_type": "code",
   "execution_count": 5,
   "metadata": {},
   "outputs": [],
   "source": [
    "#Criando três listas que conterão os dados dos quotes\n",
    "lista_num = []\n",
    "lista_texto = []\n",
    "lista_autor = []"
   ]
  },
  {
   "cell_type": "code",
   "execution_count": 6,
   "metadata": {},
   "outputs": [],
   "source": [
    "#For de teste com lista de três elementos que utiliza regex para extrair número, texto e autor do quote \n",
    "#e adicionam as informações as suas respecticas listas\n",
    "for quote in lista_quotes:\n",
    "    #print(quote)\n",
    "    num_quote = search(r'([0-9]+)', quote)\n",
    "    txt_quote = search(r'\"([^\\\"]*)\"', quote)\n",
    "    autor_quote = search(r'([^-]\\w+$)', quote)\n",
    "    \n",
    "    #Se qualquer uma das variaveis anteriores possuirem valor None pula para o proximo quote\n",
    "    #Isso filtra os quotes que não estiverem formatados conforme o esperado\n",
    "    if num_quote == None or txt_quote == None or autor_quote == None:\n",
    "        continue\n",
    "    else:\n",
    "        num_quote = num_quote.group()\n",
    "        txt_quote = txt_quote.group(1)\n",
    "        autor_quote = autor_quote.group()\n",
    "    \n",
    "    #print('Numero quote: %s\\n Texto: %s\\n Autor: %s' %(num_quote, txt_quote, autor_quote))\n",
    "    \n",
    "    lista_num.append(num_quote)\n",
    "    lista_texto.append(txt_quote)\n",
    "    lista_autor.append(autor_quote)"
   ]
  },
  {
   "cell_type": "code",
   "execution_count": 7,
   "metadata": {},
   "outputs": [
    {
     "name": "stdout",
     "output_type": "stream",
     "text": [
      "['1', '2', '3']\n",
      "['Coma pizza todo dia', 'Charge characters are for low IQ idiots', 'Agora vai']\n",
      "[' Saga', 'LTG', 'Saga']\n"
     ]
    }
   ],
   "source": [
    "#Verificando conteúdo das listas\n",
    "print(lista_num[:3])\n",
    "print(lista_texto[:3])\n",
    "print(lista_autor[:3])"
   ]
  },
  {
   "cell_type": "code",
   "execution_count": 10,
   "metadata": {},
   "outputs": [
    {
     "name": "stdout",
     "output_type": "stream",
     "text": [
      "  Num_Quote                                Txt_Quote Aut_Quote\n",
      "0         1                      Coma pizza todo dia      Saga\n",
      "1         2  Charge characters are for low IQ idiots       LTG\n",
      "2         3                                Agora vai      Saga\n",
      "3         4            Mas sou muito ruim nesse jogo      Saga\n",
      "4         5                  SACO DE LIXO DE BONECO!      Saga\n"
     ]
    }
   ],
   "source": [
    "#Criando um dataframe para organizar estes dados em uma tabela\n",
    "quotes_df = pd.DataFrame()\n",
    "quotes_df['Num_Quote'] = lista_num\n",
    "quotes_df['Txt_Quote'] = lista_texto\n",
    "quotes_df['Aut_Quote'] = lista_autor\n",
    "\n",
    "#Exibe os 5 primeiros quotes\n",
    "print(quotes_df[:5])"
   ]
  },
  {
   "cell_type": "code",
   "execution_count": 9,
   "metadata": {},
   "outputs": [
    {
     "name": "stdout",
     "output_type": "stream",
     "text": [
      "Tamanho do dataframe: 1881 linhas.\n",
      "Tipo da variavel: <class 'pandas.core.frame.DataFrame'>\n"
     ]
    }
   ],
   "source": [
    "print('Tamanho do dataframe:', len(quotes_df), 'linhas.')\n",
    "print('Tipo da variavel:', type(quotes_df))"
   ]
  },
  {
   "cell_type": "code",
   "execution_count": null,
   "metadata": {},
   "outputs": [],
   "source": []
  },
  {
   "cell_type": "code",
   "execution_count": null,
   "metadata": {},
   "outputs": [],
   "source": []
  }
 ],
 "metadata": {
  "kernelspec": {
   "display_name": "Python 3",
   "language": "python",
   "name": "python3"
  },
  "language_info": {
   "codemirror_mode": {
    "name": "ipython",
    "version": 3
   },
   "file_extension": ".py",
   "mimetype": "text/x-python",
   "name": "python",
   "nbconvert_exporter": "python",
   "pygments_lexer": "ipython3",
   "version": "3.7.4"
  }
 },
 "nbformat": 4,
 "nbformat_minor": 2
}
