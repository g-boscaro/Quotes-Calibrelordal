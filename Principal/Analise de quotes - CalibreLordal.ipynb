{
 "cells": [
  {
   "cell_type": "markdown",
   "metadata": {},
   "source": [
    "# Analise de quotes do CalibreLordal\n",
    "\n",
    "## Objetivos\n",
    "- Contar a quantidade de quotes de cada usuário\n",
    "- Analisar quais são as palavras mais frenquentes no geral\n",
    "- Analisar quais são as palavras mais frequentes de cada usuário\n",
    "\n",
    "## O que fazer\n",
    "- Os quotes estão disponíveis em: https://twitch.center/customapi/quote/list?token=25693f14\n",
    "- Pegar o conteúdo do link anterior;\n",
    "- Criar um dataframe/csv/tabela com os quotes;\n",
    "- Separar os quotes em três colunas: Nº do quote, Quote e Autor;\n",
    "- Criar nova coluna com conteúdo da coluna de Autor normalizada para que não haja nomes diferentes de um mesmo usuário;\n",
    "- Criar nova coluna com conteúdo da coluna Quotes e remover a pontuação;\n",
    "\n",
    "- Pesquisar sobre Processamento de Linguagem Natural para saber como fazer a contagem de palavras ou se há um jeito melhor de fazer isso.\n",
    "- Pesquisar sobre expressões regulares talvez possa ajudar\n"
   ]
  },
  {
   "cell_type": "code",
   "execution_count": null,
   "metadata": {},
   "outputs": [],
   "source": []
  }
 ],
 "metadata": {
  "kernelspec": {
   "display_name": "Python 3",
   "language": "python",
   "name": "python3"
  },
  "language_info": {
   "codemirror_mode": {
    "name": "ipython",
    "version": 3
   },
   "file_extension": ".py",
   "mimetype": "text/x-python",
   "name": "python",
   "nbconvert_exporter": "python",
   "pygments_lexer": "ipython3",
   "version": "3.7.4"
  }
 },
 "nbformat": 4,
 "nbformat_minor": 2
}
