{
 "cells": [
  {
   "cell_type": "markdown",
   "metadata": {},
   "source": [
    "# Analise de quotes do CalibreLordal\n",
    "\n",
    "## Objetivos\n",
    "- Contar a quantidade de quotes de cada usuário\n",
    "- Analisar quais são as palavras mais frenquentes no geral\n",
    "- Analisar quais são as palavras mais frequentes de cada usuário\n",
    "\n",
    "## O que fazer\n",
    "- ~~Os quotes estão disponíveis em: https://twitch.center/customapi/quote/list?token=25693f14 ~~\n",
    "- ~~Raspar o conteúdo do link anterior;~~\n",
    "- ~~Criar um dataframe/csv/tabela com os quotes;~~\n",
    "- ~~Separar os quotes em três colunas: Nº do quote, Quote e Autor;~~\n",
    "- Criar nova coluna com conteúdo da coluna de Autor normalizada para que não haja nomes diferentes de um mesmo usuário;\n",
    "- Criar nova coluna com conteúdo da coluna Quotes e remover a pontuação;\n",
    "\n",
    "- Pesquisar sobre Processamento de Linguagem Natural para saber como fazer a contagem de palavras ou se há um jeito melhor de fazer isso.\n",
    "- Pesquisar sobre expressões regulares talvez possa ajudar\n"
   ]
  },
  {
   "cell_type": "code",
   "execution_count": 1,
   "metadata": {},
   "outputs": [],
   "source": [
    "#Importando biliotecas que serão utilizadas\n",
    "from requests import get\n",
    "from re import search\n",
    "import pandas as pd\n",
    "import numpy as np"
   ]
  },
  {
   "cell_type": "code",
   "execution_count": null,
   "metadata": {},
   "outputs": [],
   "source": [
    "#URL da pagina de quotes\n",
    "quotes_url = 'https://twitch.center/customapi/quote/list?token=25693f14'\n",
    "\n",
    "#Request da pagina\n",
    "pagina = get(quotes_url)\n",
    "\n",
    "print(pagina.status_code)\n",
    "\n",
    "#Convertendo o conteudo da pagina numa grande string\n",
    "texto_pagina = pagina.text"
   ]
  },
  {
   "cell_type": "code",
   "execution_count": null,
   "metadata": {},
   "outputs": [],
   "source": [
    "#splitlines() separa uma string em uma lista de strings usando os delimitadores \\r\\n\n",
    "lista_quotes = texto_pagina.splitlines()\n",
    "print('Quantidade de quotes:', len(lista_quotes))"
   ]
  },
  {
   "cell_type": "code",
   "execution_count": null,
   "metadata": {},
   "outputs": [],
   "source": [
    "#Printando os tres primeiros quotes\n",
    "print(lista_quotes[:3])"
   ]
  },
  {
   "cell_type": "code",
   "execution_count": null,
   "metadata": {},
   "outputs": [],
   "source": [
    "#Criando três listas que conterão os dados dos quotes\n",
    "lista_num = []\n",
    "lista_texto = []\n",
    "lista_autor = []"
   ]
  },
  {
   "cell_type": "code",
   "execution_count": null,
   "metadata": {},
   "outputs": [],
   "source": [
    "#For de teste com lista de três elementos que utiliza regex para extrair número, texto e autor do quote \n",
    "#e adicionam as informações as suas respecticas listas\n",
    "for quote in lista_quotes:\n",
    "    #print(quote)\n",
    "    num_quote = search(r'([0-9]+)', quote)\n",
    "    txt_quote = search(r'\"([^\\\"]*)\"', quote)\n",
    "    autor_quote = search(r'-([^\\\"]*)$', quote)\n",
    "    \n",
    "    #Se qualquer uma das variaveis anteriores possuirem valor None pula para o proximo quote\n",
    "    #Isso filtra os quotes que não estiverem formatados conforme o esperado, como os sem autor\n",
    "    if num_quote == None or txt_quote == None or autor_quote == None:\n",
    "        continue\n",
    "    else:\n",
    "        num_quote = num_quote.group()\n",
    "        txt_quote = txt_quote.group(1)\n",
    "        autor_quote = str(autor_quote.group(1)).lower()\n",
    "    \n",
    "    #print('Numero quote: %s\\n Texto: %s\\n Autor: %s' %(num_quote, txt_quote, autor_quote))\n",
    "    \n",
    "    lista_num.append(num_quote)\n",
    "    lista_texto.append(txt_quote)\n",
    "    lista_autor.append(autor_quote)"
   ]
  },
  {
   "cell_type": "code",
   "execution_count": null,
   "metadata": {},
   "outputs": [],
   "source": [
    "#Verificando conteúdo das listas\n",
    "print(lista_num[:3])\n",
    "print(lista_texto[:3])\n",
    "print(lista_autor[:3])"
   ]
  },
  {
   "cell_type": "code",
   "execution_count": null,
   "metadata": {},
   "outputs": [],
   "source": [
    "#Cria um dicionario com os dados anteriores\n",
    "quotes_dados = {'Num_Quote': lista_num,\n",
    "                'Txt_Quote': lista_texto,\n",
    "                'Aut_Quote': lista_autor}\n",
    "\n",
    "#Criando um dataframe com o dicionario\n",
    "quotes_df = pd.DataFrame(quotes_dados)\n",
    "quotes_df.head(5)"
   ]
  },
  {
   "cell_type": "code",
   "execution_count": null,
   "metadata": {},
   "outputs": [],
   "source": [
    "#Verificando a quantidade de quotes por autor\n",
    "qnt_aut = quotes_df.groupby(\"Aut_Quote\").count()\n",
    "qnt_aut.sort_values('Txt_Quote', ascending=False)"
   ]
  },
  {
   "cell_type": "markdown",
   "metadata": {},
   "source": [
    "### Variaveis de teste"
   ]
  },
  {
   "cell_type": "code",
   "execution_count": null,
   "metadata": {},
   "outputs": [],
   "source": [
    "teste = quotes_df\n",
    "teste"
   ]
  },
  {
   "cell_type": "code",
   "execution_count": null,
   "metadata": {},
   "outputs": [],
   "source": [
    "indice = 0\n",
    "\n",
    "for autor in teste[\"Aut_Quote\"]:\n",
    "    ##print(\"Valor atual:\", autor)\n",
    "    if \"saga\" in autor or \"kazama\" in autor:\n",
    "        teste.at[indice, \"Aut_Quote\"]= \"saga\"\n",
    "        indice += 1\n",
    "        #print(\"Valor atualizado:\", )\n",
    "    \n",
    "    elif \"dougão\" in autor or \"dougao\" in autor:\n",
    "        teste.at[indice, \"Aut_Quote\"]= \"dougao\"\n",
    "        indice += 1\n",
    "\n",
    "    elif \"mabs\" in autor or \"mads\" in autor or \"mabz\" in autor or \"madz\" in autor:\n",
    "        teste.at[indice, \"Aut_Quote\"]= \"madz\"\n",
    "        indice += 1\n",
    "    \n",
    "    elif \"ellem\" in autor or \"ellen\" in autor :\n",
    "        teste.at[indice, \"Aut_Quote\"]= \"ellen\"\n",
    "        indice += 1\n",
    "    \n",
    "    else:      \n",
    "        indice += 1\n",
    "        continue\n",
    "        \n",
    "#print(teste[:3])"
   ]
  },
  {
   "cell_type": "code",
   "execution_count": null,
   "metadata": {},
   "outputs": [],
   "source": [
    "teste_group = teste.groupby(\"Aut_Quote\").count()\n",
    "#Quantidade de quotes por usuário\n",
    "qnt_aut = teste_group.sort_values('Txt_Quote', ascending=False)\n",
    "\n",
    "qnt_aut.drop(columns =[\"Num_Quote\"])\n",
    "qnt_aut.rename(columns = {\"Aut_Quote\": \"Usuário\",\"Txt_Quote\":\"Quantidade de quotes\"})"
   ]
  },
  {
   "cell_type": "code",
   "execution_count": null,
   "metadata": {},
   "outputs": [],
   "source": [
    "qnt_aut.head(5)"
   ]
  },
  {
   "cell_type": "code",
   "execution_count": null,
   "metadata": {},
   "outputs": [],
   "source": []
  }
 ],
 "metadata": {
  "kernelspec": {
   "display_name": "Python 3",
   "language": "python",
   "name": "python3"
  },
  "language_info": {
   "codemirror_mode": {
    "name": "ipython",
    "version": 3
   },
   "file_extension": ".py",
   "mimetype": "text/x-python",
   "name": "python",
   "nbconvert_exporter": "python",
   "pygments_lexer": "ipython3",
   "version": "3.7.4"
  }
 },
 "nbformat": 4,
 "nbformat_minor": 2
}
