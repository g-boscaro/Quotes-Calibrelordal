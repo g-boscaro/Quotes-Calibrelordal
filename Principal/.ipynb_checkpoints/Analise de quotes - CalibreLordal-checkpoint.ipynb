{
 "cells": [
  {
   "cell_type": "markdown",
   "metadata": {},
   "source": [
    "# Analise de quotes do CalibreLordal\n",
    "\n",
    "## Objetivos\n",
    "- Contar a quantidade de quotes de cada usuário\n",
    "- Analisar quais são as palavras mais frenquentes no geral\n",
    "- Analisar quais são as palavras mais frequentes de cada usuário\n",
    "\n",
    "## O que fazer\n",
    "- Os quotes estão disponíveis em: https://twitch.center/customapi/quote/list?token=25693f14\n",
    "- Raspar o conteúdo do link anterior;\n",
    "- Criar um dataframe/csv/tabela com os quotes;\n",
    "- Separar os quotes em três colunas: Nº do quote, Quote e Autor;\n",
    "- Criar nova coluna com conteúdo da coluna de Autor normalizada para que não haja nomes diferentes de um mesmo usuário;\n",
    "- Criar nova coluna com conteúdo da coluna Quotes e remover a pontuação;\n",
    "\n",
    "- Pesquisar sobre Processamento de Linguagem Natural para saber como fazer a contagem de palavras ou se há um jeito melhor de fazer isso.\n",
    "- Pesquisar sobre expressões regulares talvez possa ajudar\n"
   ]
  },
  {
   "cell_type": "code",
   "execution_count": 1,
   "metadata": {},
   "outputs": [],
   "source": [
    "#Importando biliotecas que serão utilizadas\n",
    "from requests import get\n",
    "from re import search\n",
    "import pandas as pd"
   ]
  },
  {
   "cell_type": "code",
   "execution_count": 2,
   "metadata": {},
   "outputs": [],
   "source": [
    "#URL da pagina de quotes\n",
    "quotes_url = 'https://twitch.center/customapi/quote/list?token=25693f14'\n",
    "\n",
    "#Request da pagina\n",
    "pagina = get(quotes_url)\n",
    "#Convertendo o conteudo da pagina numa grande string\n",
    "texto_pagina = pagina.text"
   ]
  },
  {
   "cell_type": "code",
   "execution_count": 3,
   "metadata": {},
   "outputs": [
    {
     "name": "stdout",
     "output_type": "stream",
     "text": [
      "Quantidade de quotes: 1909\n"
     ]
    }
   ],
   "source": [
    "#splitlines() separa uma string em uma lista de strings usando os delimitadores \\r\\n\n",
    "lista_quotes = texto_pagina.splitlines()\n",
    "print('Quantidade de quotes:', len(lista_quotes))"
   ]
  },
  {
   "cell_type": "code",
   "execution_count": 4,
   "metadata": {},
   "outputs": [
    {
     "name": "stdout",
     "output_type": "stream",
     "text": [
      "['1. \"Coma pizza todo dia\" - Saga', '2. \"Charge characters are for low IQ idiots\" -LTG', '3. \"Agora vai\" -Saga']\n"
     ]
    }
   ],
   "source": [
    "#Printando os tres primeiros quotes\n",
    "print(lista_quotes[:3])"
   ]
  },
  {
   "cell_type": "code",
   "execution_count": 5,
   "metadata": {},
   "outputs": [],
   "source": [
    "#Criando três listas que conterão os dados dos quotes\n",
    "lista_num = []\n",
    "lista_texto = []\n",
    "lista_autor = []"
   ]
  },
  {
   "cell_type": "code",
   "execution_count": 6,
   "metadata": {},
   "outputs": [],
   "source": [
    "#For de teste com lista de três elementos que utiliza regex para extrair número, texto e autor do quote \n",
    "#e adicionam as informações as suas respecticas listas\n",
    "for quote in lista_quotes:\n",
    "    #print(quote)\n",
    "    num_quote = search(r'([0-9]+)', quote)\n",
    "    txt_quote = search(r'\"([^\\\"]*)\"', quote)\n",
    "    autor_quote = search(r'([^-]\\w+$)', quote)\n",
    "    \n",
    "    if num_quote == None or txt_quote == None or autor_quote == None:\n",
    "        continue\n",
    "    else:\n",
    "        num_quote = num_quote.group()\n",
    "        txt_quote = txt_quote.group(1)\n",
    "        autor_quote = autor_quote.group()\n",
    "    \n",
    "    #print('Numero quote: %s\\n Texto: %s\\n Autor: %s' %(num_quote, txt_quote, autor_quote))\n",
    "    \n",
    "    lista_num.append(num_quote)\n",
    "    lista_texto.append(txt_quote)\n",
    "    lista_autor.append(autor_quote)"
   ]
  },
  {
   "cell_type": "code",
   "execution_count": 7,
   "metadata": {},
   "outputs": [
    {
     "name": "stdout",
     "output_type": "stream",
     "text": [
      "['51', '52', '53', '55', '56', '57', '58', '59', '60', '61', '62', '63', '64', '65', '66', '67', '68', '69', '70', '71', '72', '73', '74', '75', '76', '77', '78', '79', '80', '81', '82', '83', '84', '85', '86', '87', '88', '89', '90', '91', '92', '93', '94', '95', '96', '97', '98', '99', '100']\n",
      "['Cinquinho?', 'Eu vou ter que dormir na rua agora', 'Caralho destruí a jugular.', 'É o meu jeitinho de jogar Dark Souls... Ser idiota', 'Quantas escolhas ruins na minha vida.', 'Até onde eu sei ele não vai mudar de sexo', 'Imigrantes são fracos contra paredes.', 'Cara, aquele ali parece que está rebolando.', \"Yeah, you've got a great butt\", 'Se você não se importar, quebrar pescoços é uma ferramenta muito útil.', 'Vai colocar o cu no gelo.', 'Dá uma fumada rapidão', 'Bate em mim', 'A paciência é inimiga da perfeição', 'Eu sentei na espada mano, puta que pariu!', 'Eu não sou um cara doce', 'Eu só não consegui dar pro Dougão porque eu não vi ele mais.', 'Quer saber? Foda-se Chef Sensei!', 'Sim, tem que ser exatamente no cu.', 'Tem um yokai na minha ração.', 'Será que tem mulher aqui?', 'Puta merda vou ter que jogar certo esse jogo', 'Priority my butt!', 'É um puta bundinha bonita. Não é uma bunda magra não.', 'Dota é igual a bicicleta', 'To matando os cara e nem tô vendo.', 'A fgc não é e-sports', 'Eu só desisti de viver depois dessa', 'Ela tá mijando napalm', 'Chega uma hora que as bolas me deixam atordoado', 'A cueca me stunou', 'Eu caí no feijão, mano', 'Caralho ela é muito novinha, mano!', 'Eu to perdidaço já', 'Eu lembrei que eu sou ruim nesse jogo', 'Só falta o junk dele começar a balançar.', 'Estão me ligando. Eu to pelado.', 'Eu não sei jogar esses jogos em que todo mundo voa!', 'Dá pra chutar os outros?', 'Dinheiro é algo que você faz fácil.', 'Caralho eu atropelei um veado, mano!', 'Ele fica gemendo, mano.', 'A minha cobra apodreceu.', 'Eu falo que ele é doente e ninguém acredita', 'Ela tá dentro de mim, ela tá comendo eu!!!', 'Pornografia ainda é uma ameaça.', 'Por favor, morra logo', 'Olha aquele palhaço fazendo cooper na lua.', 'Eles vão entrar no buraco?']\n",
      "['Saga', ' Saga', ' Dougão', 'Saga', 'Saga', 'Saga', 'Madz', 'Saga', 'Snake', 'Madz', 'Madz', 'Madz', ' lordsLewd', ' Rothier', 'Saga', 'Saga', 'Saga', 'Saga', ' Rothier', 'Madz', 'Saga', 'Saga', 'Raiden', 'Saga', 'Saga', 'Saga', 'Saga', 'Saga', ' Madz', 'Saga', ' Saga', 'Saga', 'Saga', 'Saga', 'Saga', 'Rothier', 'Saga', 'Saga', 'Saga', 'Saga', 'Saga', 'Saga', 'Saga', ' Madz', ' Saga', 'Madz', 'Saga', 'Saga', 'Saga']\n"
     ]
    }
   ],
   "source": [
    "#Verificando conteúdo das listas\n",
    "print(lista_num[:3])\n",
    "print(lista_texto[:3])\n",
    "print(lista_autor[:3])"
   ]
  },
  {
   "cell_type": "code",
   "execution_count": 8,
   "metadata": {},
   "outputs": [
    {
     "name": "stdout",
     "output_type": "stream",
     "text": [
      "  Num_Quote                                          Txt_Quote Aut_Quote\n",
      "0        51                                         Cinquinho?      Saga\n",
      "1        52                 Eu vou ter que dormir na rua agora      Saga\n",
      "2        53                         Caralho destruí a jugular.    Dougão\n",
      "3        55  É o meu jeitinho de jogar Dark Souls... Ser id...      Saga\n",
      "4        56              Quantas escolhas ruins na minha vida.      Saga\n"
     ]
    }
   ],
   "source": [
    "#Criando um dataframe para organizar estes dados em uma tabela\n",
    "quotes_df = pd.DataFrame()\n",
    "quotes_df['Num_Quote'] = lista_num\n",
    "quotes_df['Txt_Quote'] = lista_texto\n",
    "quotes_df['Aut_Quote'] = lista_autor\n",
    "\n",
    "print(quotes_df[:5])"
   ]
  },
  {
   "cell_type": "code",
   "execution_count": 9,
   "metadata": {},
   "outputs": [
    {
     "name": "stdout",
     "output_type": "stream",
     "text": [
      "Tamanho do dataframe: 49 linhas.\n",
      "Tipo da variavel: <class 'pandas.core.frame.DataFrame'>\n"
     ]
    }
   ],
   "source": [
    "print('Tamanho do dataframe:', len(quotes_df), 'linhas.')\n",
    "print('Tipo da variavel:', type(quotes_df))"
   ]
  },
  {
   "cell_type": "code",
   "execution_count": null,
   "metadata": {},
   "outputs": [],
   "source": []
  },
  {
   "cell_type": "code",
   "execution_count": null,
   "metadata": {},
   "outputs": [],
   "source": []
  }
 ],
 "metadata": {
  "kernelspec": {
   "display_name": "Python 3",
   "language": "python",
   "name": "python3"
  },
  "language_info": {
   "codemirror_mode": {
    "name": "ipython",
    "version": 3
   },
   "file_extension": ".py",
   "mimetype": "text/x-python",
   "name": "python",
   "nbconvert_exporter": "python",
   "pygments_lexer": "ipython3",
   "version": "3.7.4"
  }
 },
 "nbformat": 4,
 "nbformat_minor": 2
}
